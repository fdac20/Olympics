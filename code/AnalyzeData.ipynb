{
 "cells": [
  {
   "cell_type": "code",
   "execution_count": 3,
   "metadata": {},
   "outputs": [
    {
     "name": "stdout",
     "output_type": "stream",
     "text": [
      "USA\t5\n",
      "URS\t1\n",
      "FIN\t1\n",
      "FRA\t1\n",
      "AUS\t1\n",
      "ITA\t1\n",
      "UKR\t1\n",
      "CHN\t1\n",
      "\n",
      "\n",
      "ITA\t2\n",
      "URS\t2\n",
      "GBR\t2\n",
      "FIN\t1\n",
      "JPN\t1\n",
      "EUN\t1\n",
      "UKR\t1\n",
      "NED\t1\n",
      "AUS\t1\n",
      "RUS\t1\n",
      "\n",
      "\n",
      "URS\t3\n",
      "JPN\t2\n",
      "USA\t2\n",
      "CHN\t2\n",
      "SWE\t1\n",
      "\n",
      "\n"
     ]
    }
   ],
   "source": [
    "import requests, re, nltk, operator\n",
    "from bs4 import BeautifulSoup\n",
    "from nltk import clean_html\n",
    "from collections import Counter\n",
    "\n",
    "archery = open('../data/archery.txt','r')\n",
    "\n",
    "aData = archery.readlines()\n",
    "\n",
    "gold = {}\n",
    "bronze = {}\n",
    "silver = {}\n",
    "for count,x in enumerate(aData):\n",
    "    temp = x.split()\n",
    "    for index,y in enumerate(temp):\n",
    "        if (y == \"Men\" or y == \"Women\"):\n",
    "            save = index + 1\n",
    "        if(y == \"M\" or y == \"W\"):\n",
    "            save2 = index + 1\n",
    "    if(temp[save2] == \"Gold\"):\n",
    "        if temp[save] in gold: gold [temp[save]] = gold [temp[save]] + 1\n",
    "        else:  gold [temp[save]] = 1\n",
    "    if(temp[save2] == \"Silver\"):\n",
    "        if temp[save] in silver: silver [temp[save]] = silver [temp[save]] + 1\n",
    "        else:  silver [temp[save]] = 1\n",
    "    if(temp[save2] == \"Bronze\"):\n",
    "        if temp[save] in bronze: bronze [temp[save]] = bronze [temp[save]] + 1\n",
    "        else:  bronze [temp[save]] = 1\n",
    "\n",
    "goldS = sorted (gold.items(), key = operator.itemgetter(1), reverse=True)\n",
    "bronzeS = sorted (bronze.items(), key = operator.itemgetter(1), reverse=True)\n",
    "silverS = sorted (silver.items(), key = operator.itemgetter(1), reverse=True)\n",
    "\n",
    "for i in range(1,len(goldS),1):\n",
    "    print (goldS[i][0]+\"\\t\"+str(goldS[i][1]))\n",
    "print(\"\\n\")\n",
    "for i in range(1,len(bronzeS),1):\n",
    "    print (bronzeS[i][0]+\"\\t\"+str(bronzeS[i][1]))\n",
    "print(\"\\n\")\n",
    "for i in range(1,len(silverS),1):\n",
    "    print (silverS[i][0]+\"\\t\"+str(silverS[i][1]))\n",
    "print(\"\\n\")"
   ]
  },
  {
   "cell_type": "code",
   "execution_count": null,
   "metadata": {},
   "outputs": [],
   "source": [
    "import numpy as np\n",
    "import pylab\n",
    "import matplotlib.pyplot as plt"
   ]
  }
 ],
 "metadata": {
  "kernelspec": {
   "display_name": "Python 3",
   "language": "python",
   "name": "python3"
  },
  "language_info": {
   "codemirror_mode": {
    "name": "ipython",
    "version": 3
   },
   "file_extension": ".py",
   "mimetype": "text/x-python",
   "name": "python",
   "nbconvert_exporter": "python",
   "pygments_lexer": "ipython3",
   "version": "3.8.2"
  }
 },
 "nbformat": 4,
 "nbformat_minor": 4
}
